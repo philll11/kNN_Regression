{
 "cells": [
  {
   "cell_type": "markdown",
   "metadata": {},
   "source": [
    "### KNN REGRESSION\n",
    "\n",
    "The following Notebook was created to learn how a kNN regression algorithm is built and evaluated. Throughout the Notebook I have explained each step and evaluated any output my model has produced. Everything in this Notebook is my own work.\n",
    "\n",
    "I will be looking into what factors that affect happiness in OECD countries. I will be using a kNN regression model to find correlations between the response variable 'Life Ladder' and our WHRData dataset predictors.\n",
    "\n",
    "\\- Written by Leonard Phillips"
   ]
  },
  {
   "cell_type": "code",
   "execution_count": 1,
   "metadata": {},
   "outputs": [],
   "source": [
    "import pandas as pd"
   ]
  },
  {
   "cell_type": "markdown",
   "metadata": {},
   "source": [
    "This model will be built using the 'WHRData.csv' data set provided by The World Bank."
   ]
  },
  {
   "cell_type": "code",
   "execution_count": 2,
   "metadata": {},
   "outputs": [],
   "source": [
    "WHRData = pd.read_csv('WHRData.csv')\n",
    "WHRData.drop(columns=['Unnamed: 0'],inplace=True)"
   ]
  },
  {
   "cell_type": "markdown",
   "metadata": {},
   "source": [
    "To begin, we will need to extract all OECD countries into one dataframe for ease of workability"
   ]
  },
  {
   "cell_type": "code",
   "execution_count": 3,
   "metadata": {},
   "outputs": [],
   "source": [
    "oecd_names = ['Australia', 'Austria', 'Belgium', 'Canada', 'Chile', 'Czech Republic', 'Denmark', 'Estonia',\n",
    " 'Finland', 'France', 'Germany', 'Greece', 'Hungary', 'Iceland', 'Ireland', 'Israel', 'Italy',\n",
    " 'Japan', 'South Korea', 'Luxembourg', 'Mexico', 'Netherlands', 'New Zealand', 'Norway', 'Poland', 'Portugal',\n",
    " 'Slovak Republic', 'Slovenia', 'Spain', 'Sweden', 'Switzerland', 'Turkey', 'United Kingdom', 'United States']\n",
    "\n",
    "oecd_df = pd.DataFrame(columns=WHRData.columns)\n",
    "\n",
    "for name in oecd_names:\n",
    "    oecd_df = pd.concat([oecd_df,WHRData.loc[WHRData['Country name'] == name]],ignore_index=True)"
   ]
  },
  {
   "cell_type": "code",
   "execution_count": 4,
   "metadata": {},
   "outputs": [],
   "source": [
    "oecd_df.set_index(['Country name','Year'], inplace=True)"
   ]
  },
  {
   "cell_type": "markdown",
   "metadata": {},
   "source": [
    "### Feature Scaling\n",
    "Now that we have our workable OECD dataframe we will need to scale our prediction features in order to avoid a disproporational effect on the outcome which will lead to a degraded accuracy."
   ]
  },
  {
   "cell_type": "markdown",
   "metadata": {},
   "source": [
    "The method of feature scaling I will leverage is the RobustScalering function which is apart of the sklearn library."
   ]
  },
  {
   "cell_type": "code",
   "execution_count": 5,
   "metadata": {},
   "outputs": [],
   "source": [
    "from sklearn import preprocessing\n",
    "\n",
    "for header in oecd_df.columns:\n",
    "    minmax_scale = preprocessing.MinMaxScaler().fit(oecd_df[[header]].dropna())\n",
    "    df_minmax_scale = minmax_scale.transform(oecd_df[[header]])\n",
    "    oecd_df[[header]] = df_minmax_scale"
   ]
  },
  {
   "cell_type": "markdown",
   "metadata": {},
   "source": [
    "### Removing NaN values\n",
    "Our kNN regression model can not handle NaN values, therefore, we must remove them. However .dropna() will delete the entire row. If we clear the X_train dataset of NaN values, it goes from having 217 rows to 1 row. This is a major issue. One solution to this problem is replacing the NaN values with the mean of the column. This will be an adequate solution for features that contain a small number of NaNs. Therefore, it is important to find what percentage of values in a feature are NaNs as we want to remove all features that contain more than 60% NaN values."
   ]
  },
  {
   "cell_type": "code",
   "execution_count": 6,
   "metadata": {},
   "outputs": [],
   "source": [
    "def percent_of_nan(df):\n",
    "    percents = {}\n",
    "    for column in df.columns:\n",
    "        num_of_nans = df[column].isna().sum()\n",
    "        total_rows = df[column].count() + num_of_nans\n",
    "        percent_nan = (num_of_nans / total_rows)*100\n",
    "        percents[df[column].name] = round(percent_nan, 2)\n",
    "    return percents"
   ]
  },
  {
   "cell_type": "code",
   "execution_count": 7,
   "metadata": {},
   "outputs": [
    {
     "name": "stdout",
     "output_type": "stream",
     "text": [
      "Features deleted:\n",
      "['GINI index (World Bank estimate)',\n",
      " 'Most people can be trusted, Gallup',\n",
      " 'Most people can be trusted, WVS round 1981-1984',\n",
      " 'Most people can be trusted, WVS round 1989-1993',\n",
      " 'Most people can be trusted, WVS round 1994-1998',\n",
      " 'Most people can be trusted, WVS round 1999-2004',\n",
      " 'Most people can be trusted, WVS round 2010-2014']\n"
     ]
    }
   ],
   "source": [
    "from pprint import pprint\n",
    "\n",
    "percentages = percent_of_nan(oecd_df)\n",
    "dropped_columns = []\n",
    "for key, value in percentages.items():\n",
    "    if value > 40:\n",
    "        dropped_columns.append(key)\n",
    "        oecd_df.drop(key, axis=1, inplace=True)\n",
    "print(\"Features deleted:\")\n",
    "pprint(dropped_columns)"
   ]
  },
  {
   "cell_type": "markdown",
   "metadata": {},
   "source": [
    "All NaN values must be replaced to satisfy our regression model. I will be using the mean of each column as a replacement."
   ]
  },
  {
   "cell_type": "code",
   "execution_count": 8,
   "metadata": {},
   "outputs": [],
   "source": [
    "oecd_df.fillna(oecd_df.mean(), inplace=True)"
   ]
  },
  {
   "cell_type": "markdown",
   "metadata": {},
   "source": [
    "### Train Test Split\n",
    "We will need to perform a train test split of our OECD data set in order to test the accuracy of our model. If we were to test our model with data it has already seen, it would produce results that were biased."
   ]
  },
  {
   "cell_type": "code",
   "execution_count": 9,
   "metadata": {},
   "outputs": [],
   "source": [
    "from sklearn.model_selection import train_test_split\n",
    "\n",
    "predictor_names = ['Log GDP per capita',\n",
    "       'Social support', 'Healthy life expectancy at birth',\n",
    "       'Freedom to make life choices', 'Generosity (measuring residuals)',\n",
    "       'Perceptions of corruption', 'Positive affect', 'Negative affect',\n",
    "       'Confidence in national government', 'Democratic Quality',\n",
    "       'Delivery Quality', 'Standard deviation of ladder by country-year',\n",
    "       'Standard deviation/Mean of ladder by country-year',\n",
    "       'GINI index (World Bank estimate), average 2000-16',\n",
    "       'gini of household income reported in Gallup, by wp5-year',\n",
    "       'Most people can be trusted, WVS round 2005-2009',\n",
    "       'CO2 emissions (metric tons per capita)',\n",
    "       'Government expenditure on education, total (% of GDP)',\n",
    "       'Employment to population ratio, 15+, total (%) (modeled ILO estimate)',\n",
    "       'School enrollment, tertiary (% gross)', 'Population, total']\n",
    "\n",
    "X_train, X_test, y_train, y_test = train_test_split(oecd_df[predictor_names], oecd_df['Life Ladder (between 0 and 10)'], random_state=42, test_size=0.3)"
   ]
  },
  {
   "cell_type": "markdown",
   "metadata": {},
   "source": [
    "### Building the Model\n",
    "Before we produce a model, we must first shape the data to fit the KNeighborsRegressor arguments. This means converting our dataframe into an array."
   ]
  },
  {
   "cell_type": "code",
   "execution_count": 10,
   "metadata": {},
   "outputs": [],
   "source": [
    "X_train = X_train.values\n",
    "X_test = X_test.values\n",
    "y_train = y_train.values\n",
    "y_test = y_test.values"
   ]
  },
  {
   "cell_type": "markdown",
   "metadata": {},
   "source": [
    "The following scripts will training mulitple kNN models using the KNeighborsRegressor method from the sklearn library. These models will be built using a combination of weights and different k values."
   ]
  },
  {
   "cell_type": "markdown",
   "metadata": {},
   "source": [
    "First, we need a function that measures how well our model fits the data."
   ]
  },
  {
   "cell_type": "code",
   "execution_count": 11,
   "metadata": {},
   "outputs": [],
   "source": [
    "def calculate_regression_goodness_of_fit(ys, y_hat):\n",
    "    ss_total = 0\n",
    "    ss_residual = 0\n",
    "    ss_regression = 0\n",
    "    y_mean = ys.mean()\n",
    "    \n",
    "    for i in range(len(ys)):\n",
    "        ss_total += np.square(ys[i] - y_mean)\n",
    "        ss_residual += np.square(ys[i] - y_hat[i])\n",
    "        ss_regression += np.square(y_hat[i] - y_mean)\n",
    "    \n",
    "    r_square = ss_regression / ss_total\n",
    "    rmse = np.sqrt(ss_residual / float(len(ys)))\n",
    "    return r_square, rmse"
   ]
  },
  {
   "cell_type": "markdown",
   "metadata": {},
   "source": [
    "Then, a function allowing us to visually examine the accuracy of our models for both Uniform and Distance weighting."
   ]
  },
  {
   "cell_type": "code",
   "execution_count": 12,
   "metadata": {},
   "outputs": [],
   "source": [
    "def plot_k_accuracy(rsquare_array, rmse_array, y_test, weight):\n",
    "    plt.figure(figsize=[8,8])\n",
    "    plt.subplot(2, 1, 1)\n",
    "    plt.plot(range(2, len(y_test)), rsquare_array, c='k', label='R Square')\n",
    "    plt.axis('tight')\n",
    "    plt.xlabel('k number of nearest neighbours')\n",
    "    plt.ylabel('RSquare')\n",
    "    plt.legend(loc='upper right')\n",
    "    plt.title(\"RSquare for the \"+ weight +\" KNeighborsRegressor\")\n",
    "    plt.subplots_adjust(hspace=0.5)\n",
    "\n",
    "    plt.subplot(2, 1, 2)\n",
    "    plt.plot(range(2, len(y_test)), rmse_array, c='k', label='RMSE')\n",
    "    plt.axis('tight')\n",
    "    plt.xlabel('k number of nearest neighbours')\n",
    "    plt.ylabel('RMSE')\n",
    "    plt.legend(loc='upper left')\n",
    "    plt.title(\"RMSE for the \" + weight + \" KNeighborsRegressor\")"
   ]
  },
  {
   "cell_type": "markdown",
   "metadata": {},
   "source": [
    "The following script finds the accuracy of our model using different values of k from 2 to the length of our test data (115) for both Uniform and Distance weighting. It then displays the R-squared and RMSE values for each length of k."
   ]
  },
  {
   "cell_type": "code",
   "execution_count": 13,
   "metadata": {},
   "outputs": [
    {
     "data": {
      "image/png": "[encoded data removed]",
      "text/plain": [
       "<Figure size 576x576 with 2 Axes>"
      ]
     },
     "metadata": {
      "needs_background": "light"
     },
     "output_type": "display_data"
    },
    {
     "data": {
      "image/png": "[encoded data removed]",
      "text/plain": [
       "<Figure size 576x576 with 2 Axes>"
      ]
     },
     "metadata": {
      "needs_background": "light"
     },
     "output_type": "display_data"
    }
   ],
   "source": [
    "import numpy as np\n",
    "import matplotlib.pyplot as plt\n",
    "from sklearn import neighbors\n",
    "from pylab import rcParams\n",
    "\n",
    "rcParams['figure.figsize'] = 14, 8\n",
    "rcParams['font.size'] = 20\n",
    "rcParams['figure.dpi'] = 350\n",
    "rcParams['lines.linewidth'] = 2\n",
    "rcParams['axes.facecolor'] = 'white'\n",
    "rcParams['patch.edgecolor'] = 'white'\n",
    "rcParams['font.family'] = 'StixGeneral'\n",
    "\n",
    "%matplotlib inline\n",
    "\n",
    "\n",
    "for weight in ['uniform', 'distance']:\n",
    "    rsquare_arr = []\n",
    "    rmse_arr = []\n",
    "    for k in range(2, len(y_test)):\n",
    "        knn = neighbors.KNeighborsRegressor(n_neighbors=k,weights=weight)\n",
    "        y_hat = knn.fit(X_train, y_train).predict(X_test)\n",
    "        rsquare, rmse = calculate_regression_goodness_of_fit(y_test, y_hat)\n",
    "        rmse_arr.append(rmse)\n",
    "        rsquare_arr.append(rsquare)\n",
    "    plot_k_accuracy(rsquare_arr, rmse_arr, y_test, weight)"
   ]
  },
  {
   "cell_type": "markdown",
   "metadata": {},
   "source": [
    "A visual examination of the plotted R-squared values for both Uniform and Distance weighting does not show any variation between them. We also see no variation between the Uniform and Distance weighted plots for RMSE.\n",
    "\n",
    "We see that the model had the best fit when k was equal to 2. As k increased the variation explained by the model decreased.\n",
    "\n",
    "A similar effect is happening in the RMSE plots. We can see when k is equal to 2 the model fits the training data the well. As k increases the model's predictive accuracy decreases.\n",
    "\n",
    "However, when k is small the model is more greatly affected by noise which devalues the accuracy of the model. Therefore, we must take a slightly bigger value than 2. From the plot, we can see there is a slight upswing called the 'elbow curve' in the R-squared when k equals 5. This would be a more appropriate k value for use in the model.\n",
    "\n",
    "From this, we can conclude that a k equaling 5 is the best parameter for our regression model."
   ]
  },
  {
   "cell_type": "markdown",
   "metadata": {},
   "source": [
    "Now that we have determined our parameters, we can start altering the feature inputs. The following script increases the number of predictor variables, fits model, and calculates the R-squared value."
   ]
  },
  {
   "cell_type": "code",
   "execution_count": 14,
   "metadata": {},
   "outputs": [
    {
     "name": "stdout",
     "output_type": "stream",
     "text": [
      "Model with 2 \tvariables  -  R_squared: 0.8530364758690245 \t|\tRMSE: 0.185915235266772\n",
      "Model with 3 \tvariables  -  R_squared: 0.7761842989306346 \t|\tRMSE: 0.13062163876281077\n",
      "Model with 4 \tvariables  -  R_squared: 0.7979706011231285 \t|\tRMSE: 0.09395615346510702\n",
      "Model with 5 \tvariables  -  R_squared: 0.8291671757766829 \t|\tRMSE: 0.08882076104769492\n",
      "Model with 6 \tvariables  -  R_squared: 0.8258209186638632 \t|\tRMSE: 0.09077645330741076\n",
      "Model with 7 \tvariables  -  R_squared: 0.8401721335665471 \t|\tRMSE: 0.07932925834899267\n",
      "Model with 8 \tvariables  -  R_squared: 0.8425114998262274 \t|\tRMSE: 0.08210659087362258\n",
      "Model with 9 \tvariables  -  R_squared: 0.8756403953260782 \t|\tRMSE: 0.07825989903856365\n",
      "Model with 10 \tvariables  -  R_squared: 0.8338265949628365 \t|\tRMSE: 0.08083670609434557\n",
      "Model with 11 \tvariables  -  R_squared: 0.8465235377291929 \t|\tRMSE: 0.07301299776238171\n",
      "Model with 12 \tvariables  -  R_squared: 0.8405229162657081 \t|\tRMSE: 0.0695364190587028\n",
      "Model with 13 \tvariables  -  R_squared: 0.8304167749375729 \t|\tRMSE: 0.068202100656871\n",
      "Model with 14 \tvariables  -  R_squared: 0.8554461116668235 \t|\tRMSE: 0.06066133395399098\n",
      "Model with 15 \tvariables  -  R_squared: 0.8700276405836449 \t|\tRMSE: 0.06235058798532878\n",
      "Model with 16 \tvariables  -  R_squared: 0.8540872165580301 \t|\tRMSE: 0.059475704631896484\n",
      "Model with 17 \tvariables  -  R_squared: 0.881084730957643 \t|\tRMSE: 0.05920424291207243\n",
      "Model with 18 \tvariables  -  R_squared: 0.8579086254231746 \t|\tRMSE: 0.05974967894985996\n",
      "Model with 19 \tvariables  -  R_squared: 0.8555812716959157 \t|\tRMSE: 0.059932530499884513\n",
      "Model with 20 \tvariables  -  R_squared: 0.8525868974463298 \t|\tRMSE: 0.06095793526636924\n",
      "Model with 21 \tvariables  -  R_squared: 0.8548373913038855 \t|\tRMSE: 0.061236821577287485\n"
     ]
    }
   ],
   "source": [
    "for i in range(2, len(oecd_df.columns)):\n",
    "    X_train, X_test, y_train, y_test = train_test_split(oecd_df.iloc[:,1:i], oecd_df['Life Ladder (between 0 and 10)'], random_state=42, test_size=0.3)\n",
    "\n",
    "    knn = neighbors.KNeighborsRegressor(n_neighbors=5,weights='distance')\n",
    "    model = knn.fit(X_train, y_train)\n",
    "    y_hat = model.predict(X_test)\n",
    "    r_squ, rmse = calculate_regression_goodness_of_fit(y_test, y_hat)\n",
    "    print(\"Model with\", i, \"\\tvariables  -  R_squared:\", r_squ, \"\\t|\\tRMSE:\", rmse)"
   ]
  },
  {
   "cell_type": "markdown",
   "metadata": {},
   "source": [
    "As we can see from the output above, a model with the first 17 predictor variables fits the data very well as it accounts for 88% of the variation in the target variable. The RMSE number is 0.0597 meaning that the residuals are not very spread out around the model."
   ]
  },
  {
   "cell_type": "markdown",
   "metadata": {},
   "source": [
    "#### Final Model\n",
    "After a fair amount of experimentation, the following model has been constructed as it represents the most reliable predictor for happiness.\n",
    "\n",
    "The model we have selected will be a kNN regression model that will look at the 5 closest neighbors with a distance weighting. There will be 17 predictor variables used to predict our target variable 'Life Ladder'\n",
    "\n",
    "The model will be trained off a 70/30 train-test split of the OECD dataset."
   ]
  },
  {
   "cell_type": "code",
   "execution_count": 15,
   "metadata": {},
   "outputs": [
    {
     "name": "stdout",
     "output_type": "stream",
     "text": [
      "R_squared: 0.881084730957643 \t|\tRMSE: 0.05920424291207243\n"
     ]
    }
   ],
   "source": [
    "X_train, X_test, y_train, y_test = train_test_split(oecd_df.iloc[:,1:17], oecd_df['Life Ladder (between 0 and 10)'], random_state=42, test_size=0.3)\n",
    "\n",
    "knn = neighbors.KNeighborsRegressor(n_neighbors=5,weights='distance')\n",
    "model = knn.fit(X_train, y_train)\n",
    "y_hat = model.predict(X_test)\n",
    "r_squ, rmse = calculate_regression_goodness_of_fit(y_test, y_hat)\n",
    "\n",
    "print(\"R_squared:\", r_squ, \"\\t|\\tRMSE:\", rmse)"
   ]
  },
  {
   "cell_type": "markdown",
   "metadata": {},
   "source": [
    "From the R-squared and RMSE output produced by the model above we can be very confident that this model will predict accurately new data it has not seen before.\n",
    "\n",
    "I would not recommend that this model can be used to predict 'Life Ladder' values outside the boundaries of the trained data."
   ]
  }
 ],
 "metadata": {
  "kernelspec": {
   "display_name": "Python 3",
   "language": "python",
   "name": "python3"
  },
  "language_info": {
   "codemirror_mode": {
    "name": "ipython",
    "version": 3
   },
   "file_extension": ".py",
   "mimetype": "text/x-python",
   "name": "python",
   "nbconvert_exporter": "python",
   "pygments_lexer": "ipython3",
   "version": "3.7.1"
  }
 },
 "nbformat": 4,
 "nbformat_minor": 2
}
